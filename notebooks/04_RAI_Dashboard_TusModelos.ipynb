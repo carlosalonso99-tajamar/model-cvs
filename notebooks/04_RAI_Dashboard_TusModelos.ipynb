{
  "cells": [
    {
      "cell_type": "raw",
      "metadata": {
        "vscode": {
          "languageId": "raw"
        }
      },
      "source": [
        "# Crear RAI Dashboard para tus modelos ya entrenados\n",
        "\n",
        "Este notebook te permite crear un dashboard de IA Responsable para modelos que ya has entrenado en Azure ML Studio.\n",
        "\n",
        "**Modelos disponibles:**\n",
        "- model_SVM\n",
        "- model_LogisticRegression  \n",
        "- model_GradientBoosting\n",
        "- model_RandomForest\n",
        "- dynamic_salt_gg4c5m1q\n",
        "\n",
        "## ✅ **SÍ, puedes aplicar RAI a modelos ya entrenados**\n",
        "\n",
        "Solo necesitas:\n",
        "1. El nombre del modelo (que ya tienes)\n",
        "2. Los datos originales de entrenamiento y test\n",
        "3. Ejecutar este notebook\n"
      ]
    },
    {
      "cell_type": "raw",
      "metadata": {
        "vscode": {
          "languageId": "raw"
        }
      },
      "source": [
        "## 1. Configuración inicial\n"
      ]
    },
    {
      "cell_type": "code",
      "execution_count": null,
      "metadata": {},
      "outputs": [],
      "source": [
        "# Verificar paquetes necesarios\n",
        "!pip show azure-ai-ml\n"
      ]
    },
    {
      "cell_type": "code",
      "execution_count": null,
      "metadata": {},
      "outputs": [],
      "source": [
        "from azure.identity import DefaultAzureCredential, InteractiveBrowserCredential\n",
        "from azure.ai.ml import MLClient\n",
        "\n",
        "try:\n",
        "    credential = DefaultAzureCredential()\n",
        "    credential.get_token(\"https://management.azure.com/.default\")\n",
        "except Exception as ex:\n",
        "    credential = InteractiveBrowserCredential()\n"
      ]
    },
    {
      "cell_type": "code",
      "execution_count": null,
      "metadata": {},
      "outputs": [],
      "source": [
        "# Conectar al workspace\n",
        "ml_client = MLClient.from_config(credential=credential)\n",
        "print(f\"Conectado al workspace: {ml_client.workspace_name}\")\n"
      ]
    },
    {
      "cell_type": "raw",
      "metadata": {
        "vscode": {
          "languageId": "raw"
        }
      },
      "source": [
        "## 2. Seleccionar el modelo a analizar\n",
        "\n",
        "**Cambiar aquí el nombre del modelo que quieres analizar:**\n"
      ]
    },
    {
      "cell_type": "code",
      "execution_count": null,
      "metadata": {},
      "outputs": [],
      "source": [
        "# CAMBIAR AQUÍ EL NOMBRE DE TU MODELO\n",
        "MODELO_SELECCIONADO = \"model_RandomForest\"  # Cambia por: model_SVM, model_LogisticRegression, model_GradientBoosting, etc.\n",
        "\n",
        "# Verificar que el modelo existe\n",
        "try:\n",
        "    modelo = ml_client.models.get(name=MODELO_SELECCIONADO, version=\"1\")\n",
        "    print(f\"✅ Modelo encontrado: {modelo.name} v{modelo.version}\")\n",
        "    print(f\"📝 Descripción: {modelo.description}\")\n",
        "    print(f\"🏷️ Tipo: {modelo.type}\")\n",
        "except Exception as e:\n",
        "    print(f\"❌ Error: No se encontró el modelo {MODELO_SELECCIONADO}\")\n",
        "    print(\"Modelos disponibles:\")\n",
        "    for model in ml_client.models.list():\n",
        "        print(f\"  - {model.name}\")\n"
      ]
    },
    {
      "cell_type": "raw",
      "metadata": {
        "vscode": {
          "languageId": "raw"
        }
      },
      "source": [
        "## 3. Preparar los datos\n",
        "\n",
        "**Importante:** Necesitas los mismos datos que usaste para entrenar el modelo (train y test sets).\n"
      ]
    },
    {
      "cell_type": "code",
      "execution_count": null,
      "metadata": {},
      "outputs": [],
      "source": [
        "import pandas as pd\n",
        "import pyarrow as pa\n",
        "import pyarrow.parquet as pq\n",
        "import os\n",
        "\n",
        "# CAMBIAR AQUÍ LAS RUTAS A TUS DATOS\n",
        "# Usa los mismos datos que usaste para entrenar el modelo\n",
        "RUTA_DATOS_TRAIN = \"train_data.csv\"  # Cambiar por tu archivo\n",
        "RUTA_DATOS_TEST = \"test_data.csv\"    # Cambiar por tu archivo\n",
        "COLUMNA_TARGET = \"target\"            # Cambiar por tu columna objetivo\n",
        "\n",
        "# Si tienes los datos en otro formato, cámbialos aquí\n",
        "print(\"📁 Archivos disponibles en el directorio actual:\")\n",
        "for file in os.listdir(\".\"):\n",
        "    if file.endswith(('.csv', '.parquet', '.json')):\n",
        "        print(f\"  - {file}\")\n"
      ]
    },
    {
      "cell_type": "code",
      "execution_count": null,
      "metadata": {},
      "outputs": [],
      "source": [
        "# Cargar y convertir datos a Parquet (requerido para RAI)\n",
        "try:\n",
        "    # Cargar datos\n",
        "    df_train = pd.read_csv(RUTA_DATOS_TRAIN)\n",
        "    df_test = pd.read_csv(RUTA_DATOS_TEST)\n",
        "    \n",
        "    print(f\"✅ Datos cargados:\")\n",
        "    print(f\"  📊 Train: {df_train.shape}\")\n",
        "    print(f\"  📊 Test: {df_test.shape}\")\n",
        "    print(f\"  🎯 Columna target: {COLUMNA_TARGET}\")\n",
        "    \n",
        "    # Verificar que la columna target existe\n",
        "    if COLUMNA_TARGET not in df_train.columns:\n",
        "        print(f\"❌ Error: Columna '{COLUMNA_TARGET}' no encontrada\")\n",
        "        print(f\"Columnas disponibles: {list(df_train.columns)}\")\n",
        "    else:\n",
        "        print(f\"✅ Columna target encontrada\")\n",
        "        \n",
        "    # Mostrar preview\n",
        "    print(\"\\n📋 Preview de los datos:\")\n",
        "    display(df_train.head())\n",
        "    \n",
        "except Exception as e:\n",
        "    print(f\"❌ Error cargando datos: {e}\")\n",
        "    print(\"\\n💡 Asegúrate de que las rutas de los archivos sean correctas\")\n"
      ]
    },
    {
      "cell_type": "code",
      "execution_count": null,
      "metadata": {},
      "outputs": [],
      "source": [
        "# Crear directorios y convertir a Parquet\n",
        "os.makedirs(\"rai-train-data\", exist_ok=True)\n",
        "os.makedirs(\"rai-test-data\", exist_ok=True)\n",
        "\n",
        "# Convertir a Parquet\n",
        "table_train = pa.Table.from_pandas(df_train)\n",
        "table_test = pa.Table.from_pandas(df_test)\n",
        "\n",
        "pq.write_table(table_train, \"rai-train-data/data.parquet\", version=\"1.0\")\n",
        "pq.write_table(table_test, \"rai-test-data/data.parquet\", version=\"1.0\")\n",
        "\n",
        "print(\"✅ Datos convertidos a formato Parquet\")\n"
      ]
    },
    {
      "cell_type": "code",
      "execution_count": null,
      "metadata": {},
      "outputs": [],
      "source": [
        "# Crear archivos MLTable (requeridos para RAI)\n",
        "\n",
        "# MLTable para datos de entrenamiento\n",
        "mltable_train = '''\n",
        "type: mltable\n",
        "paths:\n",
        "  - pattern: ./*.parquet\n",
        "transformations:\n",
        "  - read_parquet\n",
        "'''\n",
        "\n",
        "with open(\"rai-train-data/MLTable\", \"w\") as f:\n",
        "    f.write(mltable_train)\n",
        "\n",
        "# MLTable para datos de test\n",
        "mltable_test = '''\n",
        "type: mltable\n",
        "paths:\n",
        "  - pattern: ./*.parquet\n",
        "transformations:\n",
        "  - read_parquet\n",
        "'''\n",
        "\n",
        "with open(\"rai-test-data/MLTable\", \"w\") as f:\n",
        "    f.write(mltable_test)\n",
        "\n",
        "print(\"✅ Archivos MLTable creados\")\n"
      ]
    },
    {
      "cell_type": "raw",
      "metadata": {
        "vscode": {
          "languageId": "raw"
        }
      },
      "source": [
        "## 4. Registrar los datos como assets\n"
      ]
    },
    {
      "cell_type": "code",
      "execution_count": null,
      "metadata": {},
      "outputs": [],
      "source": [
        "from azure.ai.ml.entities import Data\n",
        "from azure.ai.ml.constants import AssetTypes\n",
        "\n",
        "# Nombres para los datasets\n",
        "train_data_name = f\"{MODELO_SELECCIONADO}_train_rai\"\n",
        "test_data_name = f\"{MODELO_SELECCIONADO}_test_rai\"\n",
        "data_version = \"1\"\n",
        "\n",
        "# Registrar datos de entrenamiento\n",
        "train_data = Data(\n",
        "    path=\"rai-train-data/\",\n",
        "    type=AssetTypes.MLTABLE,\n",
        "    description=f\"RAI training data para {MODELO_SELECCIONADO}\",\n",
        "    name=train_data_name,\n",
        "    version=data_version,\n",
        ")\n",
        "ml_client.data.create_or_update(train_data)\n",
        "\n",
        "# Registrar datos de test\n",
        "test_data = Data(\n",
        "    path=\"rai-test-data/\",\n",
        "    type=AssetTypes.MLTABLE,\n",
        "    description=f\"RAI test data para {MODELO_SELECCIONADO}\",\n",
        "    name=test_data_name,\n",
        "    version=data_version,\n",
        ")\n",
        "ml_client.data.create_or_update(test_data)\n",
        "\n",
        "print(f\"✅ Datasets registrados:\")\n",
        "print(f\"  📊 Train: {train_data_name}\")\n",
        "print(f\"  📊 Test: {test_data_name}\")\n"
      ]
    },
    {
      "cell_type": "raw",
      "metadata": {
        "vscode": {
          "languageId": "raw"
        }
      },
      "source": [
        "## 5. Configurar componentes RAI\n"
      ]
    },
    {
      "cell_type": "code",
      "execution_count": null,
      "metadata": {},
      "outputs": [],
      "source": [
        "# Conectar al registro de Azure ML para obtener componentes RAI\n",
        "registry_name = \"azureml\"\n",
        "ml_client_registry = MLClient(\n",
        "    credential=credential,\n",
        "    subscription_id=ml_client.subscription_id,\n",
        "    resource_group_name=ml_client.resource_group_name,\n",
        "    registry_name=registry_name,\n",
        ")\n",
        "\n",
        "# Obtener componentes RAI\n",
        "label = \"latest\"\n",
        "\n",
        "rai_constructor_component = ml_client_registry.components.get(\n",
        "    name=\"rai_tabular_insight_constructor\", label=label\n",
        ")\n",
        "\n",
        "version = rai_constructor_component.version\n",
        "print(f\"📦 Versión de componentes RAI: {version}\")\n",
        "\n",
        "rai_erroranalysis_component = ml_client_registry.components.get(\n",
        "    name=\"rai_tabular_erroranalysis\", version=version\n",
        ")\n",
        "\n",
        "rai_explanation_component = ml_client_registry.components.get(\n",
        "    name=\"rai_tabular_explanation\", version=version\n",
        ")\n",
        "\n",
        "rai_gather_component = ml_client_registry.components.get(\n",
        "    name=\"rai_tabular_insight_gather\", version=version\n",
        ")\n",
        "\n",
        "print(\"✅ Componentes RAI obtenidos\")\n"
      ]
    },
    {
      "cell_type": "raw",
      "metadata": {
        "vscode": {
          "languageId": "raw"
        }
      },
      "source": [
        "## 6. Crear el pipeline RAI\n"
      ]
    },
    {
      "cell_type": "code",
      "execution_count": null,
      "metadata": {},
      "outputs": [],
      "source": [
        "from azure.ai.ml import Input, dsl, Output\n",
        "from azure.ai.ml.constants import AssetTypes\n",
        "import uuid\n",
        "\n",
        "# Configuración del modelo\n",
        "model_name = MODELO_SELECCIONADO\n",
        "expected_model_id = f\"{model_name}:1\"\n",
        "azureml_model_id = f\"azureml:{expected_model_id}\"\n",
        "\n",
        "# CAMBIAR aquí el nombre de tu cluster de cómputo\n",
        "compute_name = \"aml-cluster\"  # Cambia por tu cluster\n",
        "\n",
        "@dsl.pipeline(\n",
        "    compute=compute_name,\n",
        "    description=f\"RAI dashboard para {model_name}\",\n",
        "    experiment_name=f\"RAI_insights_{model_name}\",\n",
        ")\n",
        "def rai_pipeline_para_tu_modelo(target_column_name, train_data, test_data):\n",
        "    # Construir RAI dashboard\n",
        "    create_rai_job = rai_constructor_component(\n",
        "        title=f\"RAI Dashboard - {model_name}\",\n",
        "        task_type=\"classification\",  # Cambiar a \"regression\" si es necesario\n",
        "        model_info=expected_model_id,\n",
        "        model_input=Input(type=AssetTypes.MLFLOW_MODEL, path=azureml_model_id),\n",
        "        train_dataset=train_data,\n",
        "        test_dataset=test_data,\n",
        "        target_column_name=target_column_name,\n",
        "    )\n",
        "    create_rai_job.set_limits(timeout=300)\n",
        "\n",
        "    # Agregar análisis de errores\n",
        "    error_job = rai_erroranalysis_component(\n",
        "        rai_insights_dashboard=create_rai_job.outputs.rai_insights_dashboard,\n",
        "    )\n",
        "    error_job.set_limits(timeout=300)\n",
        "\n",
        "    # Agregar explicaciones del modelo\n",
        "    explanation_job = rai_explanation_component(\n",
        "        rai_insights_dashboard=create_rai_job.outputs.rai_insights_dashboard,\n",
        "        comment=f\"Explicaciones para {model_name}\", \n",
        "    )\n",
        "    explanation_job.set_limits(timeout=300)\n",
        "\n",
        "    # Combinar todos los insights\n",
        "    rai_gather_job = rai_gather_component(\n",
        "        constructor=create_rai_job.outputs.rai_insights_dashboard,\n",
        "        insight_3=error_job.outputs.error_analysis,\n",
        "        insight_4=explanation_job.outputs.explanation,\n",
        "    )\n",
        "    rai_gather_job.set_limits(timeout=300)\n",
        "\n",
        "    rai_gather_job.outputs.dashboard.mode = \"upload\"\n",
        "\n",
        "    return {\n",
        "        \"dashboard\": rai_gather_job.outputs.dashboard,\n",
        "    }\n",
        "\n",
        "print(f\"✅ Pipeline RAI definido para {model_name}\")\n"
      ]
    },
    {
      "cell_type": "raw",
      "metadata": {
        "vscode": {
          "languageId": "raw"
        }
      },
      "source": [
        "## 7. Ejecutar el pipeline\n"
      ]
    },
    {
      "cell_type": "code",
      "execution_count": null,
      "metadata": {},
      "outputs": [],
      "source": [
        "from azure.ai.ml import Input\n",
        "\n",
        "# Preparar inputs del pipeline\n",
        "diabetes_train_input = Input(\n",
        "    type=\"mltable\",\n",
        "    path=f\"azureml:{train_data_name}:{data_version}\",\n",
        "    mode=\"download\",\n",
        ")\n",
        "\n",
        "diabetes_test_input = Input(\n",
        "    type=\"mltable\",\n",
        "    path=f\"azureml:{test_data_name}:{data_version}\",\n",
        "    mode=\"download\",\n",
        ")\n",
        "\n",
        "# Crear instancia del pipeline\n",
        "insights_pipeline_job = rai_pipeline_para_tu_modelo(\n",
        "    target_column_name=COLUMNA_TARGET,\n",
        "    train_data=diabetes_train_input,\n",
        "    test_data=diabetes_test_input,\n",
        ")\n",
        "\n",
        "# Configurar output\n",
        "rand_path = str(uuid.uuid4())\n",
        "insights_pipeline_job.outputs.dashboard = Output(\n",
        "    path=f\"azureml://datastores/workspaceblobstore/paths/{rand_path}/dashboard/\",\n",
        "    mode=\"upload\",\n",
        "    type=\"uri_folder\",\n",
        ")\n",
        "\n",
        "print(\"✅ Pipeline configurado y listo para ejecutar\")\n"
      ]
    },
    {
      "cell_type": "code",
      "execution_count": null,
      "metadata": {},
      "outputs": [],
      "source": [
        "from azure.ai.ml.entities import PipelineJob\n",
        "from IPython.core.display import HTML\n",
        "from IPython.display import display\n",
        "import time\n",
        "\n",
        "def submit_and_wait(ml_client, pipeline_job) -> PipelineJob:\n",
        "    created_job = ml_client.jobs.create_or_update(pipeline_job)\n",
        "    assert created_job is not None\n",
        "\n",
        "    print(\"🚀 Pipeline enviado. Puedes seguir el progreso en:\")\n",
        "    display(HTML(f'<a href=\"{created_job.studio_url}\" target=\"_blank\">{created_job.studio_url}</a>'))\n",
        "\n",
        "    while created_job.status not in [\n",
        "        \"Completed\",\n",
        "        \"Failed\",\n",
        "        \"Canceled\",\n",
        "        \"NotResponding\",\n",
        "    ]:\n",
        "        time.sleep(30)\n",
        "        created_job = ml_client.jobs.get(created_job.name)\n",
        "        print(f\"📊 Estado actual: {created_job.status}\")\n",
        "        \n",
        "    if created_job.status == \"Completed\":\n",
        "        print(\"✅ Pipeline completado exitosamente!\")\n",
        "        print(\"🎯 Ve al Azure ML Studio para ver tu dashboard RAI\")\n",
        "    else:\n",
        "        print(f\"❌ Pipeline terminó con estado: {created_job.status}\")\n",
        "        \n",
        "    return created_job\n",
        "\n",
        "# EJECUTAR EL PIPELINE\n",
        "print(f\"🎯 Ejecutando RAI para el modelo: {MODELO_SELECCIONADO}\")\n",
        "print(f\"📊 Usando datos con columna target: {COLUMNA_TARGET}\")\n",
        "print(\"\\n⏳ Esto puede tomar varios minutos...\")\n",
        "\n",
        "insights_job = submit_and_wait(ml_client, insights_pipeline_job)\n"
      ]
    },
    {
      "cell_type": "raw",
      "metadata": {
        "vscode": {
          "languageId": "raw"
        }
      },
      "source": [
        "## 🎉 ¡Listo!\n",
        "\n",
        "Una vez que el pipeline se complete, podrás ver tu dashboard de IA Responsable en Azure ML Studio.\n",
        "\n",
        "### ¿Qué obtienes?\n",
        "\n",
        "1. **📈 Error Analysis**: Identifica dónde y por qué falla tu modelo\n",
        "2. **🔍 Model Explanations**: Entiende qué features son más importantes\n",
        "3. **⚖️ Fairness Metrics**: Evalúa sesgos en diferentes grupos\n",
        "4. **📊 Performance Metrics**: Métricas detalladas por segmentos de datos\n",
        "\n",
        "### Para probar otros modelos:\n",
        "1. Cambia la variable `MODELO_SELECCIONADO` al inicio\n",
        "2. Ajusta `COLUMNA_TARGET` y rutas de datos si es necesario\n",
        "3. Vuelve a ejecutar el notebook\n",
        "\n",
        "### Modelos disponibles para analizar:\n",
        "- `model_SVM`\n",
        "- `model_LogisticRegression`  \n",
        "- `model_GradientBoosting`\n",
        "- `model_RandomForest`\n",
        "- `dynamic_salt_gg4c5m1q`\n",
        "\n",
        "### 💡 Consejos importantes:\n",
        "- **Asegúrate de usar los mismos datos** que usaste para entrenar el modelo\n",
        "- **Cambia `task_type`** a \"regression\" si tu modelo es de regresión\n",
        "- **Verifica el nombre de tu cluster** de cómputo en la variable `compute_name`\n",
        "- **El dashboard aparecerá en la sección \"Models\" > \"Responsible AI\"** en Azure ML Studio\n"
      ]
    }
  ],
  "metadata": {
    "language_info": {
      "name": "python"
    }
  },
  "nbformat": 4,
  "nbformat_minor": 2
}
